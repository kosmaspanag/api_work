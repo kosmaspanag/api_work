{
 "cells": [
  {
   "cell_type": "code",
   "execution_count": 1,
   "metadata": {},
   "outputs": [],
   "source": [
    "#https://stackapi.readthedocs.io/en/latest/"
   ]
  },
  {
   "cell_type": "code",
   "execution_count": 2,
   "metadata": {},
   "outputs": [
    {
     "name": "stdout",
     "output_type": "stream",
     "text": [
      "Collecting stackapi\n",
      "  Downloading https://files.pythonhosted.org/packages/69/6e/e7212377e14435a33075011c6a3a6eb20707e62bff9b0e7f2330a3a100f5/StackAPI-0.1.12.tar.gz\n",
      "Requirement already satisfied: requests in /Users/kosmas/.pyenv/versions/3.7.1/lib/python3.7/site-packages (from stackapi) (2.22.0)\n",
      "Requirement already satisfied: certifi>=2017.4.17 in /Users/kosmas/.pyenv/versions/3.7.1/lib/python3.7/site-packages (from requests->stackapi) (2019.3.9)\n",
      "Requirement already satisfied: urllib3!=1.25.0,!=1.25.1,<1.26,>=1.21.1 in /Users/kosmas/.pyenv/versions/3.7.1/lib/python3.7/site-packages (from requests->stackapi) (1.25.3)\n",
      "Requirement already satisfied: chardet<3.1.0,>=3.0.2 in /Users/kosmas/.pyenv/versions/3.7.1/lib/python3.7/site-packages (from requests->stackapi) (3.0.4)\n",
      "Requirement already satisfied: idna<2.9,>=2.5 in /Users/kosmas/.pyenv/versions/3.7.1/lib/python3.7/site-packages (from requests->stackapi) (2.8)\n",
      "Installing collected packages: stackapi\n",
      "  Running setup.py install for stackapi ... \u001b[?25ldone\n",
      "\u001b[?25hSuccessfully installed stackapi-0.1.12\n",
      "\u001b[33mYou are using pip version 10.0.1, however version 19.1.1 is available.\n",
      "You should consider upgrading via the 'pip install --upgrade pip' command.\u001b[0m\n"
     ]
    }
   ],
   "source": [
    "!pip install stackapi"
   ]
  },
  {
   "cell_type": "code",
   "execution_count": 4,
   "metadata": {},
   "outputs": [],
   "source": [
    "from stackapi import StackAPI\n",
    "SITE = StackAPI('stackoverflow')\n",
    "comments = SITE.fetchch('comments')"
   ]
  },
  {
   "cell_type": "code",
   "execution_count": null,
   "metadata": {},
   "outputs": [],
   "source": []
  }
 ],
 "metadata": {
  "kernelspec": {
   "display_name": "Python 3",
   "language": "python",
   "name": "python3"
  },
  "language_info": {
   "codemirror_mode": {
    "name": "ipython",
    "version": 3
   },
   "file_extension": ".py",
   "mimetype": "text/x-python",
   "name": "python",
   "nbconvert_exporter": "python",
   "pygments_lexer": "ipython3",
   "version": "3.7.1"
  }
 },
 "nbformat": 4,
 "nbformat_minor": 2
}
